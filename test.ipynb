{
 "cells": [
  {
   "cell_type": "markdown",
   "metadata": {
    "collapsed": true
   },
   "source": [
    "# My Jupyter Notebook on IBM Watson Studio"
   ]
  },
  {
   "cell_type": "markdown",
   "metadata": {},
   "source": [
    "**Lapina Anna** <br>\n",
    "junior researcher at Komarov Botanical Institute RAS"
   ]
  },
  {
   "cell_type": "markdown",
   "metadata": {},
   "source": [
    "*I am interested in data science because it could help me perform better at my job*"
   ]
  },
  {
   "cell_type": "markdown",
   "metadata": {},
   "source": [
    "### the following code tests a simple while loop"
   ]
  },
  {
   "cell_type": "code",
   "execution_count": 2,
   "metadata": {},
   "outputs": [
    {
     "name": "stdout",
     "output_type": "stream",
     "text": [
      "1\n",
      "2\n",
      "3\n",
      "4\n",
      "5\n",
      "thats it!\n"
     ]
    }
   ],
   "source": [
    "i = 1\n",
    "while i <= 5:\n",
    "  print(i)\n",
    "  i += 1 # i = i + 1\n",
    "print(\"thats it!\")"
   ]
  },
  {
   "attachments": {},
   "cell_type": "markdown",
   "metadata": {},
   "source": [
    "***\n",
    "\n",
    "a table\n",
    "\n",
    "|header|header|\n",
    "|------|------|\n",
    "|1|2|\n",
    "\n",
    "***\n",
    "\n",
    "a numbered list\n",
    "1.  have a nice day today!\n",
    "2.  and a great coursera experience\n",
    "\n",
    "***\n",
    "\n",
    "a bulleted list\n",
    "\n",
    "*  a skeleton walks into a bar\n",
    "*  and asks for a beer\n",
    "    *  and a mop\n",
    "\n",
    "***\n",
    "\n",
    "an external link\n",
    "\n",
    "__[nice stuff](https://earth.fm/)__"
   ]
  }
 ],
 "metadata": {
  "kernelspec": {
   "display_name": "Python 3.9",
   "language": "python",
   "name": "python3"
  },
  "language_info": {
   "codemirror_mode": {
    "name": "ipython",
    "version": 3
   },
   "file_extension": ".py",
   "mimetype": "text/x-python",
   "name": "python",
   "nbconvert_exporter": "python",
   "pygments_lexer": "ipython3",
   "version": "3.9.12"
  }
 },
 "nbformat": 4,
 "nbformat_minor": 1
}
